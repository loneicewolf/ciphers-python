{
 "cells": [
  {
   "cell_type": "markdown",
   "metadata": {},
   "source": [
    "Notebook properties:\n",
    "\n",
    "\n",
    "\n",
    "**Title     : Alphabetical Substitution In Python, using Jupyter-Notebook**\n",
    "\n",
    "**Author    : William Martens**\n",
    "\n",
    "**Date      : 2020-10-21 (Swedish time & Date)**\n",
    "\n",
    "**Time      : 16:04**\n",
    "\n",
    "**Topic     : Alphabetical Substitution.**\n",
    "\n",
    "**Key Words : Cypher, Cipher, Substitution, Alphabetical Substitution.**\n",
    " \n",
    " \n",
    " \n",
    "**-**\n",
    "#### **Progress of Corresponding Report:**\n",
    "**-**\n",
    "\n",
    "**Done?** **[ / ]**\n",
    "//Half way\n",
    "\n",
    "### Alphabetical Substitution\n",
    "\n",
    "Links:\n",
    "\n",
    "\n",
    "- https://en.wikipedia.org/wiki/Substitution_cipher\n",
    "- https://en.wikipedia.org/wiki/Caesar_cipher\n"
   ]
  },
  {
   "cell_type": "code",
   "execution_count": 1,
   "metadata": {},
   "outputs": [],
   "source": [
    "# A very, very (extremely) simplified S-box.\n",
    "# Or, a \"Substitution box\". As a more proper term.\n",
    "\n",
    "# This program is making use of a way of enciphering called: \"Alphabetical Substitution.\"\n",
    "#\n",
    "# where you, in the very simplest term;\n",
    "# have 2 alphabets.\n",
    "#\n",
    "# whereas the 1st alphabet is 'translated' \n",
    "# into the 2nd alphabet.\n",
    "# \n",
    "# To give the point across; A basic example:\n",
    "# \n",
    "# think of a message, \"abc\".\n",
    "#\n",
    "# take \"abc\" -> look it up into alphabet_1.\n",
    "# for each letter in \"abc\":\n",
    "#   replace that letter with the corresponding letter in alphabet_2: like so;\n",
    "\n",
    "# \"abc\" -> 'a','b','c'\n",
    "# as a very simple example, not actually a Substitution, but just to give you the whole idea \n",
    "#                                                       without going into unnecessary details!\n",
    "\n",
    "# a \"Substitution\" that, makes \"a\" -> \"A\" (essentially just makes everything uppercase!)\n",
    "#                                        but you can change the 2nd alphabet \n",
    "#                                        to something like ZYXWVUTSRQPONMLKJIHGFEDCBA\n",
    "#                                        to make it reversed-Caps, for example.\n",
    "\n",
    "# abcdefghijklmnopqrstuvwxyz\n",
    "# ABCDEFGHIJKLMNOPQRSTUVWXYZ \n",
    "\n",
    "\n",
    "def AlphabeticalSubstitution(m,Alphabet,SubAlphabet):\n",
    "    out = m.maketrans(Alphabet,SubAlphabet)\n",
    "    result = m.translate(out)\n",
    "\n",
    "    print(result)\n",
    "    return(result)\n",
    "\n"
   ]
  },
  {
   "cell_type": "code",
   "execution_count": 2,
   "metadata": {},
   "outputs": [
    {
     "name": "stdout",
     "output_type": "stream",
     "text": [
      "snvvz\n"
     ]
    },
    {
     "data": {
      "text/plain": [
       "'snvvz'"
      ]
     },
     "execution_count": 2,
     "metadata": {},
     "output_type": "execute_result"
    }
   ],
   "source": [
    "\n",
    "# To call the function \"AlphabeticalSubstitution\":\n",
    "# you need to provide 3 required positional arguments:\n",
    "\n",
    "# which are: m,Alphabet and SubAlphabet.\n",
    "# where those are:\n",
    "\n",
    "# m            is the text to be enciphered.\n",
    "# Alphabet     is the 1st alphabet.\n",
    "# SubAlphabet  is the 2nd alphabet.\n",
    "\n",
    "\n",
    "AlphabeticalSubstitution(m=\"hello\",\n",
    "                         Alphabet=\"abcdefghijklmnopqrstuvwxyz\",\n",
    "                         SubAlphabet=\"kajwnlfsoydvxezrtguhbcipqm\")\n",
    "\n",
    "#output:\n",
    "#snvvz\n",
    "\n",
    "# hello -> snvvz\n"
   ]
  },
  {
   "cell_type": "markdown",
   "metadata": {},
   "source": [
    "**To decrypt it**, you just invert the function.\n",
    "\n",
    "**So, there are 2 ways:**\n",
    "\n",
    "**way 1, most simple: just change Alphabet and SubAlphabet with each other.**\n",
    "\n",
    "*  Alphabet=\"kajwnlfsoydvxezrtguhbcipqm\"\n",
    "*  SubAlphabet=\"abcdefghijklmnopqrstuvwxyz\"\n",
    "*  And provide the ciphertext \"snvvz\" as the message m.\n",
    "\n",
    "**Way 2, is to keep the names, but change order of them.**\n",
    "\n",
    "* so, Alphabet as the last one, (so that it's used as SubAlphabet)\n",
    "* And, SubAlphabet as the first one, (so SubAlphabet is used as Alphabet)"
   ]
  },
  {
   "cell_type": "code",
   "execution_count": null,
   "metadata": {},
   "outputs": [],
   "source": []
  },
  {
   "cell_type": "code",
   "execution_count": 3,
   "metadata": {},
   "outputs": [
    {
     "name": "stdout",
     "output_type": "stream",
     "text": [
      "hello\n"
     ]
    },
    {
     "data": {
      "text/plain": [
       "'hello'"
      ]
     },
     "execution_count": 3,
     "metadata": {},
     "output_type": "execute_result"
    }
   ],
   "source": [
    "#Way 1\n",
    "# in this example, it does outputs the ciphertext, but we use it a bit differently, \n",
    "# so it decrypts the inputted m (which actually is the ciphertext, not the message)\n",
    "# and we have switched original alphabet with SubAlphabet.\n",
    "\n",
    "AlphabeticalSubstitution(m=\"snvvz\",\n",
    "                         Alphabet=\"kajwnlfsoydvxezrtguhbcipqm\",\n",
    "                         SubAlphabet=\"abcdefghijklmnopqrstuvwxyz\")\n",
    "#\"ciphertext\" output:\n",
    "#hello\n",
    "\n",
    "# snvvz -> hello"
   ]
  },
  {
   "cell_type": "code",
   "execution_count": null,
   "metadata": {},
   "outputs": [],
   "source": []
  },
  {
   "cell_type": "code",
   "execution_count": 4,
   "metadata": {},
   "outputs": [
    {
     "name": "stdout",
     "output_type": "stream",
     "text": [
      "hello\n"
     ]
    },
    {
     "data": {
      "text/plain": [
       "'hello'"
      ]
     },
     "execution_count": 4,
     "metadata": {},
     "output_type": "execute_result"
    }
   ],
   "source": [
    "#Way 2\n",
    "\n",
    "AlphabeticalSubstitution(m=\"snvvz\",                                # using ciphertext as message m\n",
    "                         SubAlphabet=\"abcdefghijklmnopqrstuvwxyz\", # using SubAlphabet as first one, with the original alphabet.\n",
    "                         Alphabet=\"kajwnlfsoydvxezrtguhbcipqm\")    # using Alphabet as last one, with mixed-up alphabet.\n",
    "#ciphertext output:\n",
    "#hello\n",
    "\n",
    "# snvvz -> hello"
   ]
  },
  {
   "cell_type": "code",
   "execution_count": null,
   "metadata": {},
   "outputs": [],
   "source": []
  },
  {
   "cell_type": "code",
   "execution_count": null,
   "metadata": {},
   "outputs": [],
   "source": []
  }
 ],
 "metadata": {
  "kernelspec": {
   "display_name": "Python 3",
   "language": "python",
   "name": "python3"
  },
  "language_info": {
   "codemirror_mode": {
    "name": "ipython",
    "version": 3
   },
   "file_extension": ".py",
   "mimetype": "text/x-python",
   "name": "python",
   "nbconvert_exporter": "python",
   "pygments_lexer": "ipython3",
   "version": "3.8.6"
  }
 },
 "nbformat": 4,
 "nbformat_minor": 4
}
