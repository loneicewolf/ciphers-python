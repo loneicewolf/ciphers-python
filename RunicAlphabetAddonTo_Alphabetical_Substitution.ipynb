{
 "cells": [
  {
   "cell_type": "code",
   "execution_count": 1,
   "metadata": {},
   "outputs": [],
   "source": []
  },
  {
   "cell_type": "code",
   "execution_count": null,
   "metadata": {},
   "outputs": [],
   "source": []
  },
  {
   "cell_type": "markdown",
   "metadata": {},
   "source": [
    "Notebook properties:\n",
    "\n",
    "**Title     : Rune cipher Implementated In Python, using Jupyter-Notebook**\n",
    "\n",
    "**Author    : William Martens**\n",
    "\n",
    "**Date      : 2020-10-24 (Swedish time & Date)**\n",
    "\n",
    "**Time      : 13:50**\n",
    "\n",
    "**Topic     : Rune Cipher.**\n",
    "\n",
    "**Key Words : Addon To Alphabetical Substitution**\n",
    "\n",
    "\n",
    "* https://en.wikipedia.org/wiki/Cipher_runes  - \"Cipher runes, or cryptic runes, are the cryptographical replacement of the letters of the runic alphabet.\""
   ]
  },
  {
   "cell_type": "code",
   "execution_count": 12,
   "metadata": {},
   "outputs": [
    {
     "name": "stdout",
     "output_type": "stream",
     "text": [
      "ᚾᚷᛈᛖᚫ ᚱᛇᚾᛋᛞ\n",
      "RUNIC WORLD\n"
     ]
    }
   ],
   "source": [
    "# This may be wrong, I just did this quickly to see if this would work,\n",
    "# so this is probably not the correct runic alphabet, some letters in RUNES may even be duplicates.\n",
    "# and, it's not the whole alphabet, because - it was a bit problematic. \n",
    "# So, this code is full of errors/areas you would look with those \"wierd\" eyes on..\n",
    "\n",
    "#So as above, this is just for providing, that - it is **technically possible** (This was Just a mini project)\n",
    "Rune_Alphabet   = 'ᛠᚣᚫᛞᛟᛝᛚᛗᛖᛒᛏᛋᛉᛈᛇᛂᛁᚾᚻᚹᚷᚳᚱᚩᚦᚢ'\n",
    "Normal_Alphabet = 'ABCDEFGHIJKLMNOPQRSTUVWXYZ'\n",
    "\n",
    "\n",
    "def RunicCipher(m,Normal_Alphabet,Rune_Alphabet):\n",
    "    out    = m.maketrans(Normal_Alphabet,Rune_Alphabet)\n",
    "    result = m.translate(out)\n",
    "\n",
    "    return(result)\n",
    "\n",
    "# --------------------------------------- #\n",
    "\n",
    "\n",
    "#Test run with Encryption and Decryption:\n",
    "\n",
    "#Encrypt Plaintext into Runes\n",
    "print(RunicCipher(\"RUNIC WORLD\",\n",
    "                        Normal_Alphabet,\n",
    "                        Rune_Alphabet)\n",
    "     )\n",
    "\n",
    "\n",
    "#Decrypt Runes into Plaintext:\n",
    "print(RunicCipher(\"ᚾᚷᛈᛖᚫ ᚱᛇᚾᛋᛞ\",\n",
    "                        Rune_Alphabet,\n",
    "                        Normal_Alphabet)\n",
    "     )\n",
    "\n",
    "## Output:\n",
    "\n",
    "#ᚾᚷᛈᛖᚫ ᚱᛇᚾᛋᛞ\n",
    "#RUNIC WORLD\n"
   ]
  },
  {
   "cell_type": "code",
   "execution_count": null,
   "metadata": {},
   "outputs": [],
   "source": []
  },
  {
   "cell_type": "code",
   "execution_count": null,
   "metadata": {},
   "outputs": [],
   "source": []
  },
  {
   "cell_type": "code",
   "execution_count": null,
   "metadata": {},
   "outputs": [],
   "source": []
  },
  {
   "cell_type": "code",
   "execution_count": null,
   "metadata": {},
   "outputs": [],
   "source": []
  },
  {
   "cell_type": "code",
   "execution_count": null,
   "metadata": {},
   "outputs": [],
   "source": []
  }
 ],
 "metadata": {
  "kernelspec": {
   "display_name": "Python 3",
   "language": "python",
   "name": "python3"
  },
  "language_info": {
   "codemirror_mode": {
    "name": "ipython",
    "version": 3
   },
   "file_extension": ".py",
   "mimetype": "text/x-python",
   "name": "python",
   "nbconvert_exporter": "python",
   "pygments_lexer": "ipython3",
   "version": "3.8.6"
  }
 },
 "nbformat": 4,
 "nbformat_minor": 4
}
